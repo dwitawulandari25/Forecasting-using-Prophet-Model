{
  "nbformat": 4,
  "nbformat_minor": 0,
  "metadata": {
    "colab": {
      "name": "Forecast_Prophet.ipynb",
      "provenance": []
    },
    "kernelspec": {
      "name": "python3",
      "display_name": "Python 3"
    }
  },
  "cells": [
    {
      "cell_type": "code",
      "metadata": {
        "id": "VFsvB-Wx5bBT",
        "colab_type": "code",
        "outputId": "3bfedfa8-7cc8-4504-8e81-bec49ab21a68",
        "colab": {
          "base_uri": "https://localhost:8080/",
          "height": 122
        }
      },
      "source": [
        "from google.colab import drive\n",
        "drive.mount('/content/drive')"
      ],
      "execution_count": 1,
      "outputs": [
        {
          "output_type": "stream",
          "text": [
            "Go to this URL in a browser: https://accounts.google.com/o/oauth2/auth?client_id=947318989803-6bn6qk8qdgf4n4g3pfee6491hc0brc4i.apps.googleusercontent.com&redirect_uri=urn%3aietf%3awg%3aoauth%3a2.0%3aoob&response_type=code&scope=email%20https%3a%2f%2fwww.googleapis.com%2fauth%2fdocs.test%20https%3a%2f%2fwww.googleapis.com%2fauth%2fdrive%20https%3a%2f%2fwww.googleapis.com%2fauth%2fdrive.photos.readonly%20https%3a%2f%2fwww.googleapis.com%2fauth%2fpeopleapi.readonly\n",
            "\n",
            "Enter your authorization code:\n",
            "··········\n",
            "Mounted at /content/drive\n"
          ],
          "name": "stdout"
        }
      ]
    },
    {
      "cell_type": "code",
      "metadata": {
        "id": "GLFI3cjA5mFR",
        "colab_type": "code",
        "colab": {}
      },
      "source": [
        "import pandas as pd\n",
        "import matplotlib.pyplot as plt\n",
        "import pickle\n",
        "import seaborn as sns\n",
        "sns.set_style(\"whitegrid\")\n",
        "import os\n",
        "from sklearn.model_selection import train_test_split\n",
        "import numpy as np\n",
        "from pandas import datetime"
      ],
      "execution_count": 0,
      "outputs": []
    },
    {
      "cell_type": "markdown",
      "metadata": {
        "id": "wzha-dFmP0dJ",
        "colab_type": "text"
      },
      "source": [
        "# FORECAST"
      ]
    },
    {
      "cell_type": "markdown",
      "metadata": {
        "id": "lnfPpAiQ50qN",
        "colab_type": "text"
      },
      "source": [
        "#### PER OUTLET"
      ]
    },
    {
      "cell_type": "code",
      "metadata": {
        "id": "-NTl2wIc5rXe",
        "colab_type": "code",
        "colab": {}
      },
      "source": [
        "ser = pd.read_csv('../content/drive/My Drive/dataset/dataset_forecast.csv', sep=';')\n",
        "ser['period'] = pd.to_datetime(ser['period'], format='%Y%m')\n",
        "ser.head()"
      ],
      "execution_count": 0,
      "outputs": []
    },
    {
      "cell_type": "code",
      "metadata": {
        "id": "EDqkzgZR55y8",
        "colab_type": "code",
        "colab": {}
      },
      "source": [
        "prd = ser.loc[ser['site_use_id']=='SS32HD']\n",
        "prd['period'].min(),prd['period'].max() "
      ],
      "execution_count": 0,
      "outputs": []
    },
    {
      "cell_type": "code",
      "metadata": {
        "id": "1BxzprPm56fI",
        "colab_type": "code",
        "colab": {}
      },
      "source": [
        "col = ['site_use_id']\n",
        "prd = prd.drop(col, axis=1)\n",
        "prd = prd.set_index('period')\n",
        "prd.index"
      ],
      "execution_count": 0,
      "outputs": []
    },
    {
      "cell_type": "code",
      "metadata": {
        "id": "Fk-T5obq6Mb2",
        "colab_type": "code",
        "colab": {}
      },
      "source": [
        "prd = prd.reset_index()\n",
        "prd.columns = ['ds','y']\n",
        "prd.tail()"
      ],
      "execution_count": 0,
      "outputs": []
    },
    {
      "cell_type": "code",
      "metadata": {
        "id": "Ns7_314l6Plx",
        "colab_type": "code",
        "colab": {}
      },
      "source": [
        "import seaborn as sns; sns.set()\n",
        "import matplotlib.pyplot as plt\n",
        "\n",
        "plt.title('Data Aktual')\n",
        "ax = sns.lineplot(x=\"ds\", y=\"y\", data=prd)"
      ],
      "execution_count": 0,
      "outputs": []
    },
    {
      "cell_type": "code",
      "metadata": {
        "id": "r3aqgEEd6SK5",
        "colab_type": "code",
        "colab": {}
      },
      "source": [
        "X_train = prd[:27]\n",
        "X_train.tail()"
      ],
      "execution_count": 0,
      "outputs": []
    },
    {
      "cell_type": "code",
      "metadata": {
        "id": "-ztRjHfJ6rbG",
        "colab_type": "code",
        "colab": {}
      },
      "source": [
        "from fbprophet import Prophet\n",
        "\n",
        "model = Prophet()\n",
        "model.fit(X_train)\n",
        "fore = model.make_future_dataframe(periods=2, freq='MS')\n",
        "forecast = model.predict(fore)\n",
        "\n",
        "forecast.tail()"
      ],
      "execution_count": 0,
      "outputs": []
    },
    {
      "cell_type": "code",
      "metadata": {
        "id": "6pcpGdmq6uWa",
        "colab_type": "code",
        "colab": {}
      },
      "source": [
        "metric_df = forecast.set_index('ds')[['yhat']].join(prd.set_index('ds').y).reset_index()\n",
        "metric_df.tail()"
      ],
      "execution_count": 0,
      "outputs": []
    },
    {
      "cell_type": "code",
      "metadata": {
        "id": "WamKiwi57EwV",
        "colab_type": "code",
        "colab": {}
      },
      "source": [
        "plt.title('Data Predict')\n",
        "ax = sns.lineplot(x=\"ds\", y=\"yhat\", data=forecast)"
      ],
      "execution_count": 0,
      "outputs": []
    },
    {
      "cell_type": "markdown",
      "metadata": {
        "id": "eyHP4adI7I1e",
        "colab_type": "text"
      },
      "source": [
        "#### SEMUA OUTLET"
      ]
    },
    {
      "cell_type": "code",
      "metadata": {
        "id": "XDBC6QIT7KTn",
        "colab_type": "code",
        "outputId": "adcbe063-4872-454a-b291-72d4e57cc40b",
        "colab": {
          "base_uri": "https://localhost:8080/",
          "height": 204
        }
      },
      "source": [
        "series = pd.read_csv('../content/drive/My Drive/dataset/dataset_forecast.csv', sep=';')\n",
        "series.head()"
      ],
      "execution_count": 0,
      "outputs": [
        {
          "output_type": "execute_result",
          "data": {
            "text/html": [
              "<div>\n",
              "<style scoped>\n",
              "    .dataframe tbody tr th:only-of-type {\n",
              "        vertical-align: middle;\n",
              "    }\n",
              "\n",
              "    .dataframe tbody tr th {\n",
              "        vertical-align: top;\n",
              "    }\n",
              "\n",
              "    .dataframe thead th {\n",
              "        text-align: right;\n",
              "    }\n",
              "</style>\n",
              "<table border=\"1\" class=\"dataframe\">\n",
              "  <thead>\n",
              "    <tr style=\"text-align: right;\">\n",
              "      <th></th>\n",
              "      <th>site_use_id</th>\n",
              "      <th>period</th>\n",
              "      <th>total_unit</th>\n",
              "    </tr>\n",
              "  </thead>\n",
              "  <tbody>\n",
              "    <tr>\n",
              "      <th>0</th>\n",
              "      <td>SS32HD</td>\n",
              "      <td>201701</td>\n",
              "      <td>0</td>\n",
              "    </tr>\n",
              "    <tr>\n",
              "      <th>1</th>\n",
              "      <td>SS32HD</td>\n",
              "      <td>201702</td>\n",
              "      <td>0</td>\n",
              "    </tr>\n",
              "    <tr>\n",
              "      <th>2</th>\n",
              "      <td>SS32HD</td>\n",
              "      <td>201703</td>\n",
              "      <td>0</td>\n",
              "    </tr>\n",
              "    <tr>\n",
              "      <th>3</th>\n",
              "      <td>SS32HD</td>\n",
              "      <td>201704</td>\n",
              "      <td>60</td>\n",
              "    </tr>\n",
              "    <tr>\n",
              "      <th>4</th>\n",
              "      <td>SS32HD</td>\n",
              "      <td>201705</td>\n",
              "      <td>280</td>\n",
              "    </tr>\n",
              "  </tbody>\n",
              "</table>\n",
              "</div>"
            ],
            "text/plain": [
              "  site_use_id  period  total_unit\n",
              "0      SS32HD  201701           0\n",
              "1      SS32HD  201702           0\n",
              "2      SS32HD  201703           0\n",
              "3      SS32HD  201704          60\n",
              "4      SS32HD  201705         280"
            ]
          },
          "metadata": {
            "tags": []
          },
          "execution_count": 3
        }
      ]
    },
    {
      "cell_type": "code",
      "metadata": {
        "id": "VAahNiIn7N6i",
        "colab_type": "code",
        "outputId": "593b50e2-1701-4071-b871-bc8ad803e29f",
        "colab": {
          "base_uri": "https://localhost:8080/",
          "height": 204
        }
      },
      "source": [
        "ser = pd.read_csv('../content/drive/My Drive/dataset/dataset_forecast.csv', sep=';')\n",
        "ser['period'] = pd.to_datetime(ser['period'], format='%Y%m')\n",
        "ser.head()"
      ],
      "execution_count": 0,
      "outputs": [
        {
          "output_type": "execute_result",
          "data": {
            "text/html": [
              "<div>\n",
              "<style scoped>\n",
              "    .dataframe tbody tr th:only-of-type {\n",
              "        vertical-align: middle;\n",
              "    }\n",
              "\n",
              "    .dataframe tbody tr th {\n",
              "        vertical-align: top;\n",
              "    }\n",
              "\n",
              "    .dataframe thead th {\n",
              "        text-align: right;\n",
              "    }\n",
              "</style>\n",
              "<table border=\"1\" class=\"dataframe\">\n",
              "  <thead>\n",
              "    <tr style=\"text-align: right;\">\n",
              "      <th></th>\n",
              "      <th>site_use_id</th>\n",
              "      <th>period</th>\n",
              "      <th>total_unit</th>\n",
              "    </tr>\n",
              "  </thead>\n",
              "  <tbody>\n",
              "    <tr>\n",
              "      <th>0</th>\n",
              "      <td>SS32HD</td>\n",
              "      <td>2017-01-01</td>\n",
              "      <td>0</td>\n",
              "    </tr>\n",
              "    <tr>\n",
              "      <th>1</th>\n",
              "      <td>SS32HD</td>\n",
              "      <td>2017-02-01</td>\n",
              "      <td>0</td>\n",
              "    </tr>\n",
              "    <tr>\n",
              "      <th>2</th>\n",
              "      <td>SS32HD</td>\n",
              "      <td>2017-03-01</td>\n",
              "      <td>0</td>\n",
              "    </tr>\n",
              "    <tr>\n",
              "      <th>3</th>\n",
              "      <td>SS32HD</td>\n",
              "      <td>2017-04-01</td>\n",
              "      <td>60</td>\n",
              "    </tr>\n",
              "    <tr>\n",
              "      <th>4</th>\n",
              "      <td>SS32HD</td>\n",
              "      <td>2017-05-01</td>\n",
              "      <td>280</td>\n",
              "    </tr>\n",
              "  </tbody>\n",
              "</table>\n",
              "</div>"
            ],
            "text/plain": [
              "  site_use_id     period  total_unit\n",
              "0      SS32HD 2017-01-01           0\n",
              "1      SS32HD 2017-02-01           0\n",
              "2      SS32HD 2017-03-01           0\n",
              "3      SS32HD 2017-04-01          60\n",
              "4      SS32HD 2017-05-01         280"
            ]
          },
          "metadata": {
            "tags": []
          },
          "execution_count": 4
        }
      ]
    },
    {
      "cell_type": "code",
      "metadata": {
        "id": "hv-Ky6Bb7QkW",
        "colab_type": "code",
        "outputId": "49377776-5956-4a75-92e0-301f8f571611",
        "colab": {
          "base_uri": "https://localhost:8080/",
          "height": 204
        }
      },
      "source": [
        "for index, row in series.iterrows():\n",
        "    if row['period'] == 201904:\n",
        "        series.drop(index, inplace=True)\n",
        "\n",
        "series.head()"
      ],
      "execution_count": 0,
      "outputs": [
        {
          "output_type": "execute_result",
          "data": {
            "text/html": [
              "<div>\n",
              "<style scoped>\n",
              "    .dataframe tbody tr th:only-of-type {\n",
              "        vertical-align: middle;\n",
              "    }\n",
              "\n",
              "    .dataframe tbody tr th {\n",
              "        vertical-align: top;\n",
              "    }\n",
              "\n",
              "    .dataframe thead th {\n",
              "        text-align: right;\n",
              "    }\n",
              "</style>\n",
              "<table border=\"1\" class=\"dataframe\">\n",
              "  <thead>\n",
              "    <tr style=\"text-align: right;\">\n",
              "      <th></th>\n",
              "      <th>site_use_id</th>\n",
              "      <th>period</th>\n",
              "      <th>total_unit</th>\n",
              "    </tr>\n",
              "  </thead>\n",
              "  <tbody>\n",
              "    <tr>\n",
              "      <th>0</th>\n",
              "      <td>SS32HD</td>\n",
              "      <td>201701</td>\n",
              "      <td>0</td>\n",
              "    </tr>\n",
              "    <tr>\n",
              "      <th>1</th>\n",
              "      <td>SS32HD</td>\n",
              "      <td>201702</td>\n",
              "      <td>0</td>\n",
              "    </tr>\n",
              "    <tr>\n",
              "      <th>2</th>\n",
              "      <td>SS32HD</td>\n",
              "      <td>201703</td>\n",
              "      <td>0</td>\n",
              "    </tr>\n",
              "    <tr>\n",
              "      <th>3</th>\n",
              "      <td>SS32HD</td>\n",
              "      <td>201704</td>\n",
              "      <td>60</td>\n",
              "    </tr>\n",
              "    <tr>\n",
              "      <th>4</th>\n",
              "      <td>SS32HD</td>\n",
              "      <td>201705</td>\n",
              "      <td>280</td>\n",
              "    </tr>\n",
              "  </tbody>\n",
              "</table>\n",
              "</div>"
            ],
            "text/plain": [
              "  site_use_id  period  total_unit\n",
              "0      SS32HD  201701           0\n",
              "1      SS32HD  201702           0\n",
              "2      SS32HD  201703           0\n",
              "3      SS32HD  201704          60\n",
              "4      SS32HD  201705         280"
            ]
          },
          "metadata": {
            "tags": []
          },
          "execution_count": 5
        }
      ]
    },
    {
      "cell_type": "code",
      "metadata": {
        "id": "NvDf2GN_7QcH",
        "colab_type": "code",
        "outputId": "94eacfa6-68e9-44d4-bf94-9a448c8f64fc",
        "colab": {
          "base_uri": "https://localhost:8080/",
          "height": 204
        }
      },
      "source": [
        "series['period'] = pd.to_datetime(series['period'], format='%Y%m')\n",
        "series.head()"
      ],
      "execution_count": 0,
      "outputs": [
        {
          "output_type": "execute_result",
          "data": {
            "text/html": [
              "<div>\n",
              "<style scoped>\n",
              "    .dataframe tbody tr th:only-of-type {\n",
              "        vertical-align: middle;\n",
              "    }\n",
              "\n",
              "    .dataframe tbody tr th {\n",
              "        vertical-align: top;\n",
              "    }\n",
              "\n",
              "    .dataframe thead th {\n",
              "        text-align: right;\n",
              "    }\n",
              "</style>\n",
              "<table border=\"1\" class=\"dataframe\">\n",
              "  <thead>\n",
              "    <tr style=\"text-align: right;\">\n",
              "      <th></th>\n",
              "      <th>site_use_id</th>\n",
              "      <th>period</th>\n",
              "      <th>total_unit</th>\n",
              "    </tr>\n",
              "  </thead>\n",
              "  <tbody>\n",
              "    <tr>\n",
              "      <th>0</th>\n",
              "      <td>SS32HD</td>\n",
              "      <td>2017-01-01</td>\n",
              "      <td>0</td>\n",
              "    </tr>\n",
              "    <tr>\n",
              "      <th>1</th>\n",
              "      <td>SS32HD</td>\n",
              "      <td>2017-02-01</td>\n",
              "      <td>0</td>\n",
              "    </tr>\n",
              "    <tr>\n",
              "      <th>2</th>\n",
              "      <td>SS32HD</td>\n",
              "      <td>2017-03-01</td>\n",
              "      <td>0</td>\n",
              "    </tr>\n",
              "    <tr>\n",
              "      <th>3</th>\n",
              "      <td>SS32HD</td>\n",
              "      <td>2017-04-01</td>\n",
              "      <td>60</td>\n",
              "    </tr>\n",
              "    <tr>\n",
              "      <th>4</th>\n",
              "      <td>SS32HD</td>\n",
              "      <td>2017-05-01</td>\n",
              "      <td>280</td>\n",
              "    </tr>\n",
              "  </tbody>\n",
              "</table>\n",
              "</div>"
            ],
            "text/plain": [
              "  site_use_id     period  total_unit\n",
              "0      SS32HD 2017-01-01           0\n",
              "1      SS32HD 2017-02-01           0\n",
              "2      SS32HD 2017-03-01           0\n",
              "3      SS32HD 2017-04-01          60\n",
              "4      SS32HD 2017-05-01         280"
            ]
          },
          "metadata": {
            "tags": []
          },
          "execution_count": 5
        }
      ]
    },
    {
      "cell_type": "code",
      "metadata": {
        "id": "KKKZR-647QRs",
        "colab_type": "code",
        "outputId": "4c9048df-40ee-49fb-c53f-da45ab0957d0",
        "colab": {
          "base_uri": "https://localhost:8080/"
        }
      },
      "source": [
        "satu = series[0:270] #10 outlet\n",
        "satu.tail()"
      ],
      "execution_count": 0,
      "outputs": [
        {
          "output_type": "execute_result",
          "data": {
            "text/html": [
              "<div>\n",
              "<style scoped>\n",
              "    .dataframe tbody tr th:only-of-type {\n",
              "        vertical-align: middle;\n",
              "    }\n",
              "\n",
              "    .dataframe tbody tr th {\n",
              "        vertical-align: top;\n",
              "    }\n",
              "\n",
              "    .dataframe thead th {\n",
              "        text-align: right;\n",
              "    }\n",
              "</style>\n",
              "<table border=\"1\" class=\"dataframe\">\n",
              "  <thead>\n",
              "    <tr style=\"text-align: right;\">\n",
              "      <th></th>\n",
              "      <th>site_use_id</th>\n",
              "      <th>period</th>\n",
              "      <th>total_unit</th>\n",
              "    </tr>\n",
              "  </thead>\n",
              "  <tbody>\n",
              "    <tr>\n",
              "      <th>274</th>\n",
              "      <td>XH72BP</td>\n",
              "      <td>2018-11-01</td>\n",
              "      <td>20</td>\n",
              "    </tr>\n",
              "    <tr>\n",
              "      <th>275</th>\n",
              "      <td>XH72BP</td>\n",
              "      <td>2018-12-01</td>\n",
              "      <td>0</td>\n",
              "    </tr>\n",
              "    <tr>\n",
              "      <th>276</th>\n",
              "      <td>XH72BP</td>\n",
              "      <td>2019-01-01</td>\n",
              "      <td>40</td>\n",
              "    </tr>\n",
              "    <tr>\n",
              "      <th>277</th>\n",
              "      <td>XH72BP</td>\n",
              "      <td>2019-02-01</td>\n",
              "      <td>0</td>\n",
              "    </tr>\n",
              "    <tr>\n",
              "      <th>278</th>\n",
              "      <td>XH72BP</td>\n",
              "      <td>2019-03-01</td>\n",
              "      <td>0</td>\n",
              "    </tr>\n",
              "  </tbody>\n",
              "</table>\n",
              "</div>"
            ],
            "text/plain": [
              "    site_use_id     period  total_unit\n",
              "274      XH72BP 2018-11-01          20\n",
              "275      XH72BP 2018-12-01           0\n",
              "276      XH72BP 2019-01-01          40\n",
              "277      XH72BP 2019-02-01           0\n",
              "278      XH72BP 2019-03-01           0"
            ]
          },
          "metadata": {
            "tags": []
          },
          "execution_count": 7
        }
      ]
    },
    {
      "cell_type": "code",
      "metadata": {
        "id": "cIe8JQEl7aDj",
        "colab_type": "code",
        "colab": {}
      },
      "source": [
        "from fbprophet import Prophet\n",
        "\n",
        "prediction = {}\n",
        "df = satu.rename(columns={'period': 'ds','total_unit': 'y', 'site_use_id': 'produk'})\n",
        "list_articles = df.produk.unique()\n",
        "\n",
        "for article in list_articles:\n",
        "    article_df = df.loc[df['produk'] == article]\n",
        "    # set the uncertainty interval to 95% (the Prophet default is 80%)\n",
        "    my_model = Prophet()\n",
        "    my_model.fit(article_df)\n",
        "    future_dates = my_model.make_future_dataframe(periods=2, freq='MS')\n",
        "    forecast = my_model.predict(future_dates)\n",
        "    prediction[article] = forecast.yhat"
      ],
      "execution_count": 0,
      "outputs": []
    },
    {
      "cell_type": "code",
      "metadata": {
        "id": "cM29EH8l7oSJ",
        "colab_type": "code",
        "colab": {}
      },
      "source": [
        "from google.colab import files\n",
        "\n",
        "df_pr = pd.DataFrame.from_dict(prediction)\n",
        "df_pr.to_excel('prediction.xls')\n",
        "files.download(\"prediction.xls\")"
      ],
      "execution_count": 0,
      "outputs": []
    },
    {
      "cell_type": "code",
      "metadata": {
        "id": "kWRZKa-X70um",
        "colab_type": "code",
        "colab": {}
      },
      "source": [
        "my_model.plot(forecast)"
      ],
      "execution_count": 0,
      "outputs": []
    },
    {
      "cell_type": "markdown",
      "metadata": {
        "id": "ZrCi7Ai0P5As",
        "colab_type": "text"
      },
      "source": [
        "# VISUALISASI"
      ]
    },
    {
      "cell_type": "markdown",
      "metadata": {
        "id": "5iDqfVpplKtd",
        "colab_type": "text"
      },
      "source": [
        "#### PROPHET"
      ]
    },
    {
      "cell_type": "code",
      "metadata": {
        "id": "D7byD8xalJ7V",
        "colab_type": "code",
        "outputId": "6e5d1284-ed76-4d90-906e-08f90260da68",
        "colab": {
          "base_uri": "https://localhost:8080/",
          "height": 204
        }
      },
      "source": [
        "series = pd.read_csv('../content/drive/My Drive/datasets/dataset_prophet.csv', sep=';')\n",
        "series.head()"
      ],
      "execution_count": 0,
      "outputs": [
        {
          "output_type": "execute_result",
          "data": {
            "text/html": [
              "<div>\n",
              "<style scoped>\n",
              "    .dataframe tbody tr th:only-of-type {\n",
              "        vertical-align: middle;\n",
              "    }\n",
              "\n",
              "    .dataframe tbody tr th {\n",
              "        vertical-align: top;\n",
              "    }\n",
              "\n",
              "    .dataframe thead th {\n",
              "        text-align: right;\n",
              "    }\n",
              "</style>\n",
              "<table border=\"1\" class=\"dataframe\">\n",
              "  <thead>\n",
              "    <tr style=\"text-align: right;\">\n",
              "      <th></th>\n",
              "      <th>site_use_id</th>\n",
              "      <th>period</th>\n",
              "      <th>total_unit</th>\n",
              "      <th>yhat</th>\n",
              "    </tr>\n",
              "  </thead>\n",
              "  <tbody>\n",
              "    <tr>\n",
              "      <th>0</th>\n",
              "      <td>SS32HD</td>\n",
              "      <td>201701.0</td>\n",
              "      <td>0.0</td>\n",
              "      <td>69.329328</td>\n",
              "    </tr>\n",
              "    <tr>\n",
              "      <th>1</th>\n",
              "      <td>SS32HD</td>\n",
              "      <td>201702.0</td>\n",
              "      <td>0.0</td>\n",
              "      <td>-3.577937</td>\n",
              "    </tr>\n",
              "    <tr>\n",
              "      <th>2</th>\n",
              "      <td>SS32HD</td>\n",
              "      <td>201703.0</td>\n",
              "      <td>0.0</td>\n",
              "      <td>35.797229</td>\n",
              "    </tr>\n",
              "    <tr>\n",
              "      <th>3</th>\n",
              "      <td>SS32HD</td>\n",
              "      <td>201704.0</td>\n",
              "      <td>60.0</td>\n",
              "      <td>82.347171</td>\n",
              "    </tr>\n",
              "    <tr>\n",
              "      <th>4</th>\n",
              "      <td>SS32HD</td>\n",
              "      <td>201705.0</td>\n",
              "      <td>280.0</td>\n",
              "      <td>286.751202</td>\n",
              "    </tr>\n",
              "  </tbody>\n",
              "</table>\n",
              "</div>"
            ],
            "text/plain": [
              "  site_use_id    period  total_unit        yhat\n",
              "0      SS32HD  201701.0         0.0   69.329328\n",
              "1      SS32HD  201702.0         0.0   -3.577937\n",
              "2      SS32HD  201703.0         0.0   35.797229\n",
              "3      SS32HD  201704.0        60.0   82.347171\n",
              "4      SS32HD  201705.0       280.0  286.751202"
            ]
          },
          "metadata": {
            "tags": []
          },
          "execution_count": 44
        }
      ]
    },
    {
      "cell_type": "code",
      "metadata": {
        "id": "dTFGTRShlVnT",
        "colab_type": "code",
        "outputId": "858c00e2-30f8-40d5-f50b-73e9d68f33e5",
        "colab": {
          "base_uri": "https://localhost:8080/",
          "height": 204
        }
      },
      "source": [
        "series['period'] = pd.to_datetime(series['period'], format='%Y%m')\n",
        "series.head()"
      ],
      "execution_count": 0,
      "outputs": [
        {
          "output_type": "execute_result",
          "data": {
            "text/html": [
              "<div>\n",
              "<style scoped>\n",
              "    .dataframe tbody tr th:only-of-type {\n",
              "        vertical-align: middle;\n",
              "    }\n",
              "\n",
              "    .dataframe tbody tr th {\n",
              "        vertical-align: top;\n",
              "    }\n",
              "\n",
              "    .dataframe thead th {\n",
              "        text-align: right;\n",
              "    }\n",
              "</style>\n",
              "<table border=\"1\" class=\"dataframe\">\n",
              "  <thead>\n",
              "    <tr style=\"text-align: right;\">\n",
              "      <th></th>\n",
              "      <th>site_use_id</th>\n",
              "      <th>period</th>\n",
              "      <th>total_unit</th>\n",
              "      <th>yhat</th>\n",
              "    </tr>\n",
              "  </thead>\n",
              "  <tbody>\n",
              "    <tr>\n",
              "      <th>0</th>\n",
              "      <td>SS32HD</td>\n",
              "      <td>2017-01-01</td>\n",
              "      <td>0.0</td>\n",
              "      <td>69.329328</td>\n",
              "    </tr>\n",
              "    <tr>\n",
              "      <th>1</th>\n",
              "      <td>SS32HD</td>\n",
              "      <td>2017-02-01</td>\n",
              "      <td>0.0</td>\n",
              "      <td>-3.577937</td>\n",
              "    </tr>\n",
              "    <tr>\n",
              "      <th>2</th>\n",
              "      <td>SS32HD</td>\n",
              "      <td>2017-03-01</td>\n",
              "      <td>0.0</td>\n",
              "      <td>35.797229</td>\n",
              "    </tr>\n",
              "    <tr>\n",
              "      <th>3</th>\n",
              "      <td>SS32HD</td>\n",
              "      <td>2017-04-01</td>\n",
              "      <td>60.0</td>\n",
              "      <td>82.347171</td>\n",
              "    </tr>\n",
              "    <tr>\n",
              "      <th>4</th>\n",
              "      <td>SS32HD</td>\n",
              "      <td>2017-05-01</td>\n",
              "      <td>280.0</td>\n",
              "      <td>286.751202</td>\n",
              "    </tr>\n",
              "  </tbody>\n",
              "</table>\n",
              "</div>"
            ],
            "text/plain": [
              "  site_use_id     period  total_unit        yhat\n",
              "0      SS32HD 2017-01-01         0.0   69.329328\n",
              "1      SS32HD 2017-02-01         0.0   -3.577937\n",
              "2      SS32HD 2017-03-01         0.0   35.797229\n",
              "3      SS32HD 2017-04-01        60.0   82.347171\n",
              "4      SS32HD 2017-05-01       280.0  286.751202"
            ]
          },
          "metadata": {
            "tags": []
          },
          "execution_count": 45
        }
      ]
    },
    {
      "cell_type": "code",
      "metadata": {
        "id": "5bgwxAiuqA2G",
        "colab_type": "code",
        "outputId": "b0ed47a8-03af-46ca-db3f-8dfb441d0c5e",
        "colab": {
          "base_uri": "https://localhost:8080/",
          "height": 979
        }
      },
      "source": [
        "ser = series.groupby(['period']).mean()\n",
        "ser"
      ],
      "execution_count": 0,
      "outputs": [
        {
          "output_type": "execute_result",
          "data": {
            "text/html": [
              "<div>\n",
              "<style scoped>\n",
              "    .dataframe tbody tr th:only-of-type {\n",
              "        vertical-align: middle;\n",
              "    }\n",
              "\n",
              "    .dataframe tbody tr th {\n",
              "        vertical-align: top;\n",
              "    }\n",
              "\n",
              "    .dataframe thead th {\n",
              "        text-align: right;\n",
              "    }\n",
              "</style>\n",
              "<table border=\"1\" class=\"dataframe\">\n",
              "  <thead>\n",
              "    <tr style=\"text-align: right;\">\n",
              "      <th></th>\n",
              "      <th>total_unit</th>\n",
              "      <th>yhat</th>\n",
              "    </tr>\n",
              "    <tr>\n",
              "      <th>period</th>\n",
              "      <th></th>\n",
              "      <th></th>\n",
              "    </tr>\n",
              "  </thead>\n",
              "  <tbody>\n",
              "    <tr>\n",
              "      <th>2017-01-01</th>\n",
              "      <td>501.3550</td>\n",
              "      <td>511.925448</td>\n",
              "    </tr>\n",
              "    <tr>\n",
              "      <th>2017-02-01</th>\n",
              "      <td>579.3790</td>\n",
              "      <td>590.728667</td>\n",
              "    </tr>\n",
              "    <tr>\n",
              "      <th>2017-03-01</th>\n",
              "      <td>691.4500</td>\n",
              "      <td>719.887495</td>\n",
              "    </tr>\n",
              "    <tr>\n",
              "      <th>2017-04-01</th>\n",
              "      <td>601.9905</td>\n",
              "      <td>611.594078</td>\n",
              "    </tr>\n",
              "    <tr>\n",
              "      <th>2017-05-01</th>\n",
              "      <td>618.9570</td>\n",
              "      <td>622.524956</td>\n",
              "    </tr>\n",
              "    <tr>\n",
              "      <th>2017-06-01</th>\n",
              "      <td>499.4580</td>\n",
              "      <td>494.438682</td>\n",
              "    </tr>\n",
              "    <tr>\n",
              "      <th>2017-07-01</th>\n",
              "      <td>523.2805</td>\n",
              "      <td>514.537644</td>\n",
              "    </tr>\n",
              "    <tr>\n",
              "      <th>2017-08-01</th>\n",
              "      <td>774.7775</td>\n",
              "      <td>761.539049</td>\n",
              "    </tr>\n",
              "    <tr>\n",
              "      <th>2017-09-01</th>\n",
              "      <td>644.7855</td>\n",
              "      <td>633.179841</td>\n",
              "    </tr>\n",
              "    <tr>\n",
              "      <th>2017-10-01</th>\n",
              "      <td>717.1180</td>\n",
              "      <td>708.496077</td>\n",
              "    </tr>\n",
              "    <tr>\n",
              "      <th>2017-11-01</th>\n",
              "      <td>691.8855</td>\n",
              "      <td>688.431061</td>\n",
              "    </tr>\n",
              "    <tr>\n",
              "      <th>2017-12-01</th>\n",
              "      <td>591.3630</td>\n",
              "      <td>593.827085</td>\n",
              "    </tr>\n",
              "    <tr>\n",
              "      <th>2018-01-01</th>\n",
              "      <td>531.9520</td>\n",
              "      <td>519.147263</td>\n",
              "    </tr>\n",
              "    <tr>\n",
              "      <th>2018-02-01</th>\n",
              "      <td>556.7820</td>\n",
              "      <td>547.452293</td>\n",
              "    </tr>\n",
              "    <tr>\n",
              "      <th>2018-03-01</th>\n",
              "      <td>697.2970</td>\n",
              "      <td>653.537635</td>\n",
              "    </tr>\n",
              "    <tr>\n",
              "      <th>2018-04-01</th>\n",
              "      <td>652.5280</td>\n",
              "      <td>642.835386</td>\n",
              "    </tr>\n",
              "    <tr>\n",
              "      <th>2018-05-01</th>\n",
              "      <td>721.8825</td>\n",
              "      <td>718.214160</td>\n",
              "    </tr>\n",
              "    <tr>\n",
              "      <th>2018-06-01</th>\n",
              "      <td>409.3250</td>\n",
              "      <td>414.287865</td>\n",
              "    </tr>\n",
              "    <tr>\n",
              "      <th>2018-07-01</th>\n",
              "      <td>567.5415</td>\n",
              "      <td>576.233423</td>\n",
              "    </tr>\n",
              "    <tr>\n",
              "      <th>2018-08-01</th>\n",
              "      <td>575.8040</td>\n",
              "      <td>588.985807</td>\n",
              "    </tr>\n",
              "    <tr>\n",
              "      <th>2018-09-01</th>\n",
              "      <td>664.1110</td>\n",
              "      <td>675.673027</td>\n",
              "    </tr>\n",
              "    <tr>\n",
              "      <th>2018-10-01</th>\n",
              "      <td>733.1980</td>\n",
              "      <td>741.825620</td>\n",
              "    </tr>\n",
              "    <tr>\n",
              "      <th>2018-11-01</th>\n",
              "      <td>684.6990</td>\n",
              "      <td>688.166074</td>\n",
              "    </tr>\n",
              "    <tr>\n",
              "      <th>2018-12-01</th>\n",
              "      <td>597.5045</td>\n",
              "      <td>595.071994</td>\n",
              "    </tr>\n",
              "    <tr>\n",
              "      <th>2019-01-01</th>\n",
              "      <td>523.2635</td>\n",
              "      <td>525.520247</td>\n",
              "    </tr>\n",
              "    <tr>\n",
              "      <th>2019-02-01</th>\n",
              "      <td>505.4895</td>\n",
              "      <td>503.482473</td>\n",
              "    </tr>\n",
              "    <tr>\n",
              "      <th>2019-03-01</th>\n",
              "      <td>574.0700</td>\n",
              "      <td>589.320086</td>\n",
              "    </tr>\n",
              "    <tr>\n",
              "      <th>2019-04-01</th>\n",
              "      <td>603.0215</td>\n",
              "      <td>677.061167</td>\n",
              "    </tr>\n",
              "    <tr>\n",
              "      <th>2019-05-01</th>\n",
              "      <td>NaN</td>\n",
              "      <td>814.623217</td>\n",
              "    </tr>\n",
              "  </tbody>\n",
              "</table>\n",
              "</div>"
            ],
            "text/plain": [
              "            total_unit        yhat\n",
              "period                            \n",
              "2017-01-01    501.3550  511.925448\n",
              "2017-02-01    579.3790  590.728667\n",
              "2017-03-01    691.4500  719.887495\n",
              "2017-04-01    601.9905  611.594078\n",
              "2017-05-01    618.9570  622.524956\n",
              "2017-06-01    499.4580  494.438682\n",
              "2017-07-01    523.2805  514.537644\n",
              "2017-08-01    774.7775  761.539049\n",
              "2017-09-01    644.7855  633.179841\n",
              "2017-10-01    717.1180  708.496077\n",
              "2017-11-01    691.8855  688.431061\n",
              "2017-12-01    591.3630  593.827085\n",
              "2018-01-01    531.9520  519.147263\n",
              "2018-02-01    556.7820  547.452293\n",
              "2018-03-01    697.2970  653.537635\n",
              "2018-04-01    652.5280  642.835386\n",
              "2018-05-01    721.8825  718.214160\n",
              "2018-06-01    409.3250  414.287865\n",
              "2018-07-01    567.5415  576.233423\n",
              "2018-08-01    575.8040  588.985807\n",
              "2018-09-01    664.1110  675.673027\n",
              "2018-10-01    733.1980  741.825620\n",
              "2018-11-01    684.6990  688.166074\n",
              "2018-12-01    597.5045  595.071994\n",
              "2019-01-01    523.2635  525.520247\n",
              "2019-02-01    505.4895  503.482473\n",
              "2019-03-01    574.0700  589.320086\n",
              "2019-04-01    603.0215  677.061167\n",
              "2019-05-01         NaN  814.623217"
            ]
          },
          "metadata": {
            "tags": []
          },
          "execution_count": 46
        }
      ]
    },
    {
      "cell_type": "code",
      "metadata": {
        "id": "wZ8Llcpyoo8M",
        "colab_type": "code",
        "outputId": "5aa57492-464a-4717-c9f3-95e51f7180ff",
        "colab": {
          "base_uri": "https://localhost:8080/",
          "height": 458
        }
      },
      "source": [
        "plt.rcParams['figure.figsize'] = (10,7)\n",
        "\n",
        "plt.plot(ser.total_unit['2017-01-01':'2019-04-01'], label='Aktual')\n",
        "plt.plot(ser.yhat['2017-01-01':'2019-04-01'], label='Forecast')\n",
        "plt.title(\"Grafik Forecasting Prophet\")\n",
        "plt.xlabel('Period')\n",
        "plt.ylabel('Total Unit')\n",
        "plt.legend()\n",
        "plt.show()"
      ],
      "execution_count": 0,
      "outputs": [
        {
          "output_type": "display_data",
          "data": {
            "image/png": "[encoded data removed]",
            "text/plain": [
              "<Figure size 720x504 with 1 Axes>"
            ]
          },
          "metadata": {
            "tags": []
          }
        }
      ]
    },
    {
      "cell_type": "code",
      "metadata": {
        "id": "71quVPzKTGpi",
        "colab_type": "code",
        "colab": {}
      },
      "source": [
        ""
      ],
      "execution_count": 0,
      "outputs": []
    },
    {
      "cell_type": "markdown",
      "metadata": {
        "id": "UaVR--c4ur6c",
        "colab_type": "text"
      },
      "source": [
        "#### PROPHET PER OUTLET"
      ]
    },
    {
      "cell_type": "code",
      "metadata": {
        "id": "HJI33BhTApTT",
        "colab_type": "code",
        "colab": {}
      },
      "source": [
        "def lineplot(x_data, x_data2, x_label=\"Period\", y_label=\"Total Unit\", title=\"Grafik Forecast Outlet Kalbe\", label1=\"Aktual\", label2=\"Forecast\"):\n",
        "    # Create the plot object\n",
        "    _, ax = plt.subplots()\n",
        "\n",
        "    # Plot the best fit line, set the linewidth (lw), color and\n",
        "    # transparency (alpha) of the line\n",
        "    ax.plot(x_data, color = '#539caf', label=label1)\n",
        "    ax.plot(x_data2, color = '#7663b0', label=label2)\n",
        "\n",
        "    # Label the axes and provide a title\n",
        "    plt.rcParams['figure.figsize'] = (10,7)\n",
        "\n",
        "    ax.set_title(title)\n",
        "    ax.set_xlabel(x_label)\n",
        "    ax.set_ylabel(y_label)\n",
        "    ax.legend()"
      ],
      "execution_count": 0,
      "outputs": []
    },
    {
      "cell_type": "code",
      "metadata": {
        "id": "mr2Nr8Hy0vf8",
        "colab_type": "code",
        "outputId": "e67ae4bd-33e8-4e44-b4d4-92ecc715b12d",
        "colab": {
          "base_uri": "https://localhost:8080/",
          "height": 458
        }
      },
      "source": [
        "ser2 = series.loc[series['site_use_id']=='XP83RK']\n",
        "seri2 = ser2.groupby(['period']).sum()\n",
        "\n",
        "a = lineplot(seri2.total_unit, seri2.yhat)"
      ],
      "execution_count": 0,
      "outputs": [
        {
          "output_type": "display_data",
          "data": {
            "image/png": "[encoded data removed]",
            "text/plain": [
              "<Figure size 720x504 with 1 Axes>"
            ]
          },
          "metadata": {
            "tags": []
          }
        }
      ]
    },
    {
      "cell_type": "code",
      "metadata": {
        "id": "s7prvmP1CIFb",
        "colab_type": "code",
        "colab": {}
      },
      "source": [
        ""
      ],
      "execution_count": 0,
      "outputs": []
    },
    {
      "cell_type": "markdown",
      "metadata": {
        "id": "S-7LVPPXAGGW",
        "colab_type": "text"
      },
      "source": [
        "#### PREPROCESSING PROPHET"
      ]
    },
    {
      "cell_type": "code",
      "metadata": {
        "id": "pFGR5aH3rJva",
        "colab_type": "code",
        "outputId": "226400bf-57e4-4689-f9d1-bc276b617027",
        "colab": {
          "base_uri": "https://localhost:8080/",
          "height": 204
        }
      },
      "source": [
        "seri = pd.read_csv('../content/drive/My Drive/datasets/dataset_preprophet.csv', sep=';')\n",
        "seri.head()"
      ],
      "execution_count": 0,
      "outputs": [
        {
          "output_type": "execute_result",
          "data": {
            "text/html": [
              "<div>\n",
              "<style scoped>\n",
              "    .dataframe tbody tr th:only-of-type {\n",
              "        vertical-align: middle;\n",
              "    }\n",
              "\n",
              "    .dataframe tbody tr th {\n",
              "        vertical-align: top;\n",
              "    }\n",
              "\n",
              "    .dataframe thead th {\n",
              "        text-align: right;\n",
              "    }\n",
              "</style>\n",
              "<table border=\"1\" class=\"dataframe\">\n",
              "  <thead>\n",
              "    <tr style=\"text-align: right;\">\n",
              "      <th></th>\n",
              "      <th>site_use_id</th>\n",
              "      <th>period</th>\n",
              "      <th>y_scaler</th>\n",
              "      <th>yhat_scaler</th>\n",
              "    </tr>\n",
              "  </thead>\n",
              "  <tbody>\n",
              "    <tr>\n",
              "      <th>0</th>\n",
              "      <td>SS32HD</td>\n",
              "      <td>201701.0</td>\n",
              "      <td>0.000000</td>\n",
              "      <td>0.000705</td>\n",
              "    </tr>\n",
              "    <tr>\n",
              "      <th>1</th>\n",
              "      <td>SS32HD</td>\n",
              "      <td>201702.0</td>\n",
              "      <td>0.000000</td>\n",
              "      <td>-0.000076</td>\n",
              "    </tr>\n",
              "    <tr>\n",
              "      <th>2</th>\n",
              "      <td>SS32HD</td>\n",
              "      <td>201703.0</td>\n",
              "      <td>0.000000</td>\n",
              "      <td>0.000293</td>\n",
              "    </tr>\n",
              "    <tr>\n",
              "      <th>3</th>\n",
              "      <td>SS32HD</td>\n",
              "      <td>201704.0</td>\n",
              "      <td>0.000609</td>\n",
              "      <td>0.001155</td>\n",
              "    </tr>\n",
              "    <tr>\n",
              "      <th>4</th>\n",
              "      <td>SS32HD</td>\n",
              "      <td>201705.0</td>\n",
              "      <td>0.002842</td>\n",
              "      <td>0.002811</td>\n",
              "    </tr>\n",
              "  </tbody>\n",
              "</table>\n",
              "</div>"
            ],
            "text/plain": [
              "  site_use_id    period  y_scaler  yhat_scaler\n",
              "0      SS32HD  201701.0  0.000000     0.000705\n",
              "1      SS32HD  201702.0  0.000000    -0.000076\n",
              "2      SS32HD  201703.0  0.000000     0.000293\n",
              "3      SS32HD  201704.0  0.000609     0.001155\n",
              "4      SS32HD  201705.0  0.002842     0.002811"
            ]
          },
          "metadata": {
            "tags": []
          },
          "execution_count": 63
        }
      ]
    },
    {
      "cell_type": "code",
      "metadata": {
        "id": "OFphYAMnBKre",
        "colab_type": "code",
        "outputId": "35071be5-e75f-419c-cbf7-521ffff06174",
        "colab": {
          "base_uri": "https://localhost:8080/",
          "height": 204
        }
      },
      "source": [
        "seri['period'] = pd.to_datetime(seri['period'], format='%Y%m')\n",
        "seri.head()"
      ],
      "execution_count": 0,
      "outputs": [
        {
          "output_type": "execute_result",
          "data": {
            "text/html": [
              "<div>\n",
              "<style scoped>\n",
              "    .dataframe tbody tr th:only-of-type {\n",
              "        vertical-align: middle;\n",
              "    }\n",
              "\n",
              "    .dataframe tbody tr th {\n",
              "        vertical-align: top;\n",
              "    }\n",
              "\n",
              "    .dataframe thead th {\n",
              "        text-align: right;\n",
              "    }\n",
              "</style>\n",
              "<table border=\"1\" class=\"dataframe\">\n",
              "  <thead>\n",
              "    <tr style=\"text-align: right;\">\n",
              "      <th></th>\n",
              "      <th>site_use_id</th>\n",
              "      <th>period</th>\n",
              "      <th>y_scaler</th>\n",
              "      <th>yhat_scaler</th>\n",
              "    </tr>\n",
              "  </thead>\n",
              "  <tbody>\n",
              "    <tr>\n",
              "      <th>0</th>\n",
              "      <td>SS32HD</td>\n",
              "      <td>2017-01-01</td>\n",
              "      <td>0.000000</td>\n",
              "      <td>0.000705</td>\n",
              "    </tr>\n",
              "    <tr>\n",
              "      <th>1</th>\n",
              "      <td>SS32HD</td>\n",
              "      <td>2017-02-01</td>\n",
              "      <td>0.000000</td>\n",
              "      <td>-0.000076</td>\n",
              "    </tr>\n",
              "    <tr>\n",
              "      <th>2</th>\n",
              "      <td>SS32HD</td>\n",
              "      <td>2017-03-01</td>\n",
              "      <td>0.000000</td>\n",
              "      <td>0.000293</td>\n",
              "    </tr>\n",
              "    <tr>\n",
              "      <th>3</th>\n",
              "      <td>SS32HD</td>\n",
              "      <td>2017-04-01</td>\n",
              "      <td>0.000609</td>\n",
              "      <td>0.001155</td>\n",
              "    </tr>\n",
              "    <tr>\n",
              "      <th>4</th>\n",
              "      <td>SS32HD</td>\n",
              "      <td>2017-05-01</td>\n",
              "      <td>0.002842</td>\n",
              "      <td>0.002811</td>\n",
              "    </tr>\n",
              "  </tbody>\n",
              "</table>\n",
              "</div>"
            ],
            "text/plain": [
              "  site_use_id     period  y_scaler  yhat_scaler\n",
              "0      SS32HD 2017-01-01  0.000000     0.000705\n",
              "1      SS32HD 2017-02-01  0.000000    -0.000076\n",
              "2      SS32HD 2017-03-01  0.000000     0.000293\n",
              "3      SS32HD 2017-04-01  0.000609     0.001155\n",
              "4      SS32HD 2017-05-01  0.002842     0.002811"
            ]
          },
          "metadata": {
            "tags": []
          },
          "execution_count": 64
        }
      ]
    },
    {
      "cell_type": "code",
      "metadata": {
        "id": "Etdy0T3KASCb",
        "colab_type": "code",
        "outputId": "af855eaf-ea45-4e92-d92d-22dfb3811d03",
        "colab": {
          "base_uri": "https://localhost:8080/",
          "height": 979
        }
      },
      "source": [
        "seri1 = seri.groupby(['period']).mean()\n",
        "seri1"
      ],
      "execution_count": 0,
      "outputs": [
        {
          "output_type": "execute_result",
          "data": {
            "text/html": [
              "<div>\n",
              "<style scoped>\n",
              "    .dataframe tbody tr th:only-of-type {\n",
              "        vertical-align: middle;\n",
              "    }\n",
              "\n",
              "    .dataframe tbody tr th {\n",
              "        vertical-align: top;\n",
              "    }\n",
              "\n",
              "    .dataframe thead th {\n",
              "        text-align: right;\n",
              "    }\n",
              "</style>\n",
              "<table border=\"1\" class=\"dataframe\">\n",
              "  <thead>\n",
              "    <tr style=\"text-align: right;\">\n",
              "      <th></th>\n",
              "      <th>y_scaler</th>\n",
              "      <th>yhat_scaler</th>\n",
              "    </tr>\n",
              "    <tr>\n",
              "      <th>period</th>\n",
              "      <th></th>\n",
              "      <th></th>\n",
              "    </tr>\n",
              "  </thead>\n",
              "  <tbody>\n",
              "    <tr>\n",
              "      <th>2017-01-01</th>\n",
              "      <td>0.005089</td>\n",
              "      <td>0.005197</td>\n",
              "    </tr>\n",
              "    <tr>\n",
              "      <th>2017-02-01</th>\n",
              "      <td>0.005881</td>\n",
              "      <td>0.005983</td>\n",
              "    </tr>\n",
              "    <tr>\n",
              "      <th>2017-03-01</th>\n",
              "      <td>0.007019</td>\n",
              "      <td>0.007284</td>\n",
              "    </tr>\n",
              "    <tr>\n",
              "      <th>2017-04-01</th>\n",
              "      <td>0.006111</td>\n",
              "      <td>0.006310</td>\n",
              "    </tr>\n",
              "    <tr>\n",
              "      <th>2017-05-01</th>\n",
              "      <td>0.006283</td>\n",
              "      <td>0.006289</td>\n",
              "    </tr>\n",
              "    <tr>\n",
              "      <th>2017-06-01</th>\n",
              "      <td>0.005070</td>\n",
              "      <td>0.005004</td>\n",
              "    </tr>\n",
              "    <tr>\n",
              "      <th>2017-07-01</th>\n",
              "      <td>0.005312</td>\n",
              "      <td>0.005227</td>\n",
              "    </tr>\n",
              "    <tr>\n",
              "      <th>2017-08-01</th>\n",
              "      <td>0.007864</td>\n",
              "      <td>0.007750</td>\n",
              "    </tr>\n",
              "    <tr>\n",
              "      <th>2017-09-01</th>\n",
              "      <td>0.006545</td>\n",
              "      <td>0.006465</td>\n",
              "    </tr>\n",
              "    <tr>\n",
              "      <th>2017-10-01</th>\n",
              "      <td>0.007279</td>\n",
              "      <td>0.007233</td>\n",
              "    </tr>\n",
              "    <tr>\n",
              "      <th>2017-11-01</th>\n",
              "      <td>0.007023</td>\n",
              "      <td>0.007024</td>\n",
              "    </tr>\n",
              "    <tr>\n",
              "      <th>2017-12-01</th>\n",
              "      <td>0.006003</td>\n",
              "      <td>0.006048</td>\n",
              "    </tr>\n",
              "    <tr>\n",
              "      <th>2018-01-01</th>\n",
              "      <td>0.005400</td>\n",
              "      <td>0.005268</td>\n",
              "    </tr>\n",
              "    <tr>\n",
              "      <th>2018-02-01</th>\n",
              "      <td>0.005652</td>\n",
              "      <td>0.005555</td>\n",
              "    </tr>\n",
              "    <tr>\n",
              "      <th>2018-03-01</th>\n",
              "      <td>0.007078</td>\n",
              "      <td>0.006634</td>\n",
              "    </tr>\n",
              "    <tr>\n",
              "      <th>2018-04-01</th>\n",
              "      <td>0.006624</td>\n",
              "      <td>0.006274</td>\n",
              "    </tr>\n",
              "    <tr>\n",
              "      <th>2018-05-01</th>\n",
              "      <td>0.007328</td>\n",
              "      <td>0.007321</td>\n",
              "    </tr>\n",
              "    <tr>\n",
              "      <th>2018-06-01</th>\n",
              "      <td>0.004155</td>\n",
              "      <td>0.004220</td>\n",
              "    </tr>\n",
              "    <tr>\n",
              "      <th>2018-07-01</th>\n",
              "      <td>0.005761</td>\n",
              "      <td>0.005845</td>\n",
              "    </tr>\n",
              "    <tr>\n",
              "      <th>2018-08-01</th>\n",
              "      <td>0.005845</td>\n",
              "      <td>0.005959</td>\n",
              "    </tr>\n",
              "    <tr>\n",
              "      <th>2018-09-01</th>\n",
              "      <td>0.006741</td>\n",
              "      <td>0.006820</td>\n",
              "    </tr>\n",
              "    <tr>\n",
              "      <th>2018-10-01</th>\n",
              "      <td>0.007442</td>\n",
              "      <td>0.007488</td>\n",
              "    </tr>\n",
              "    <tr>\n",
              "      <th>2018-11-01</th>\n",
              "      <td>0.006950</td>\n",
              "      <td>0.006949</td>\n",
              "    </tr>\n",
              "    <tr>\n",
              "      <th>2018-12-01</th>\n",
              "      <td>0.006065</td>\n",
              "      <td>0.006019</td>\n",
              "    </tr>\n",
              "    <tr>\n",
              "      <th>2019-01-01</th>\n",
              "      <td>0.005311</td>\n",
              "      <td>0.005335</td>\n",
              "    </tr>\n",
              "    <tr>\n",
              "      <th>2019-02-01</th>\n",
              "      <td>0.005131</td>\n",
              "      <td>0.005125</td>\n",
              "    </tr>\n",
              "    <tr>\n",
              "      <th>2019-03-01</th>\n",
              "      <td>0.005827</td>\n",
              "      <td>0.006005</td>\n",
              "    </tr>\n",
              "    <tr>\n",
              "      <th>2019-04-01</th>\n",
              "      <td>0.006121</td>\n",
              "      <td>0.006271</td>\n",
              "    </tr>\n",
              "    <tr>\n",
              "      <th>2019-05-01</th>\n",
              "      <td>NaN</td>\n",
              "      <td>0.008366</td>\n",
              "    </tr>\n",
              "  </tbody>\n",
              "</table>\n",
              "</div>"
            ],
            "text/plain": [
              "            y_scaler  yhat_scaler\n",
              "period                           \n",
              "2017-01-01  0.005089     0.005197\n",
              "2017-02-01  0.005881     0.005983\n",
              "2017-03-01  0.007019     0.007284\n",
              "2017-04-01  0.006111     0.006310\n",
              "2017-05-01  0.006283     0.006289\n",
              "2017-06-01  0.005070     0.005004\n",
              "2017-07-01  0.005312     0.005227\n",
              "2017-08-01  0.007864     0.007750\n",
              "2017-09-01  0.006545     0.006465\n",
              "2017-10-01  0.007279     0.007233\n",
              "2017-11-01  0.007023     0.007024\n",
              "2017-12-01  0.006003     0.006048\n",
              "2018-01-01  0.005400     0.005268\n",
              "2018-02-01  0.005652     0.005555\n",
              "2018-03-01  0.007078     0.006634\n",
              "2018-04-01  0.006624     0.006274\n",
              "2018-05-01  0.007328     0.007321\n",
              "2018-06-01  0.004155     0.004220\n",
              "2018-07-01  0.005761     0.005845\n",
              "2018-08-01  0.005845     0.005959\n",
              "2018-09-01  0.006741     0.006820\n",
              "2018-10-01  0.007442     0.007488\n",
              "2018-11-01  0.006950     0.006949\n",
              "2018-12-01  0.006065     0.006019\n",
              "2019-01-01  0.005311     0.005335\n",
              "2019-02-01  0.005131     0.005125\n",
              "2019-03-01  0.005827     0.006005\n",
              "2019-04-01  0.006121     0.006271\n",
              "2019-05-01       NaN     0.008366"
            ]
          },
          "metadata": {
            "tags": []
          },
          "execution_count": 65
        }
      ]
    },
    {
      "cell_type": "code",
      "metadata": {
        "id": "9Ve-QCBzAfFz",
        "colab_type": "code",
        "outputId": "14ef7200-c11b-44bd-be0c-ff7dbfe884c2",
        "colab": {
          "base_uri": "https://localhost:8080/",
          "height": 458
        }
      },
      "source": [
        "plt.rcParams['figure.figsize'] = (10,7)\n",
        "\n",
        "plt.plot(seri1.y_scaler['2017-01-01':'2019-04-01'], label='Aktual')\n",
        "plt.plot(seri1.yhat_scaler['2017-01-01':'2019-04-01'], label='Forecast')\n",
        "plt.title(\"Grafik Forecasting Prophet menggunakan Preprocessing\")\n",
        "plt.xlabel('Period')\n",
        "plt.ylabel('Total Unit')\n",
        "plt.legend()\n",
        "plt.show()"
      ],
      "execution_count": 0,
      "outputs": [
        {
          "output_type": "display_data",
          "data": {
            "image/png": "[encoded data removed]",
            "text/plain": [
              "<Figure size 720x504 with 1 Axes>"
            ]
          },
          "metadata": {
            "tags": []
          }
        }
      ]
    },
    {
      "cell_type": "code",
      "metadata": {
        "id": "IdFsxXNCxiWS",
        "colab_type": "code",
        "colab": {}
      },
      "source": [
        ""
      ],
      "execution_count": 0,
      "outputs": []
    },
    {
      "cell_type": "markdown",
      "metadata": {
        "id": "w0tVzclYQfGv",
        "colab_type": "text"
      },
      "source": [
        "#### PROPHET PROCESSING PER OUTLET"
      ]
    },
    {
      "cell_type": "code",
      "metadata": {
        "id": "ZEILsbIlQ3k_",
        "colab_type": "code",
        "colab": {}
      },
      "source": [
        "def lineplot(x_data, x_data2, x_label=\"Period\", y_label=\"Total Unit\", title=\"Grafik Forecast Outlet Kalbe\", label1=\"Aktual\", label2=\"Forecast\"):\n",
        "    # Create the plot object\n",
        "    _, ax = plt.subplots()\n",
        "\n",
        "    # Plot the best fit line, set the linewidth (lw), color and\n",
        "    # transparency (alpha) of the line\n",
        "    ax.plot(x_data, color = '#539caf', label=label1)\n",
        "    ax.plot(x_data2, color = '#7663b0', label=label2)\n",
        "\n",
        "    # Label the axes and provide a title\n",
        "    plt.rcParams['figure.figsize'] = (10,7)\n",
        "\n",
        "    ax.set_title(title)\n",
        "    ax.set_xlabel(x_label)\n",
        "    ax.set_ylabel(y_label)\n",
        "    ax.legend()"
      ],
      "execution_count": 0,
      "outputs": []
    },
    {
      "cell_type": "code",
      "metadata": {
        "id": "UVgr0dfZRKeT",
        "colab_type": "code",
        "colab": {}
      },
      "source": [
        "ser2 = seri.loc[seri['site_use_id']=='XP83RK']\n",
        "seri2 = ser2.groupby(['period']).sum()\n",
        "\n",
        "a = lineplot(seri2.total_unit, seri2.yhat)"
      ],
      "execution_count": 0,
      "outputs": []
    },
    {
      "cell_type": "markdown",
      "metadata": {
        "id": "rrLQkdLKQmbW",
        "colab_type": "text"
      },
      "source": [
        "#### AKURASI TERBAIK (PROPHET)"
      ]
    },
    {
      "cell_type": "code",
      "metadata": {
        "id": "0wJJib5PQuoR",
        "colab_type": "code",
        "colab": {
          "base_uri": "https://localhost:8080/",
          "height": 204
        },
        "outputId": "94e983a7-d80a-4cae-e266-8f97b557092b"
      },
      "source": [
        "series = pd.read_csv('../content/drive/My Drive/datasets/prophet.csv', sep=';')\n",
        "series.head()"
      ],
      "execution_count": 190,
      "outputs": [
        {
          "output_type": "execute_result",
          "data": {
            "text/html": [
              "<div>\n",
              "<style scoped>\n",
              "    .dataframe tbody tr th:only-of-type {\n",
              "        vertical-align: middle;\n",
              "    }\n",
              "\n",
              "    .dataframe tbody tr th {\n",
              "        vertical-align: top;\n",
              "    }\n",
              "\n",
              "    .dataframe thead th {\n",
              "        text-align: right;\n",
              "    }\n",
              "</style>\n",
              "<table border=\"1\" class=\"dataframe\">\n",
              "  <thead>\n",
              "    <tr style=\"text-align: right;\">\n",
              "      <th></th>\n",
              "      <th>site_use_id</th>\n",
              "      <th>period</th>\n",
              "      <th>total_unit</th>\n",
              "      <th>yhat</th>\n",
              "      <th>acc</th>\n",
              "    </tr>\n",
              "  </thead>\n",
              "  <tbody>\n",
              "    <tr>\n",
              "      <th>0</th>\n",
              "      <td>SS32HD</td>\n",
              "      <td>201701.0</td>\n",
              "      <td>0.0</td>\n",
              "      <td>69.329328</td>\n",
              "      <td>0.000000</td>\n",
              "    </tr>\n",
              "    <tr>\n",
              "      <th>1</th>\n",
              "      <td>SS32HD</td>\n",
              "      <td>201702.0</td>\n",
              "      <td>0.0</td>\n",
              "      <td>-3.577937</td>\n",
              "      <td>0.000000</td>\n",
              "    </tr>\n",
              "    <tr>\n",
              "      <th>2</th>\n",
              "      <td>SS32HD</td>\n",
              "      <td>201703.0</td>\n",
              "      <td>0.0</td>\n",
              "      <td>35.797229</td>\n",
              "      <td>0.000000</td>\n",
              "    </tr>\n",
              "    <tr>\n",
              "      <th>3</th>\n",
              "      <td>SS32HD</td>\n",
              "      <td>201704.0</td>\n",
              "      <td>60.0</td>\n",
              "      <td>82.347171</td>\n",
              "      <td>0.627547</td>\n",
              "    </tr>\n",
              "    <tr>\n",
              "      <th>4</th>\n",
              "      <td>SS32HD</td>\n",
              "      <td>201705.0</td>\n",
              "      <td>280.0</td>\n",
              "      <td>286.751202</td>\n",
              "      <td>0.975889</td>\n",
              "    </tr>\n",
              "  </tbody>\n",
              "</table>\n",
              "</div>"
            ],
            "text/plain": [
              "  site_use_id    period  total_unit        yhat       acc\n",
              "0      SS32HD  201701.0         0.0   69.329328  0.000000\n",
              "1      SS32HD  201702.0         0.0   -3.577937  0.000000\n",
              "2      SS32HD  201703.0         0.0   35.797229  0.000000\n",
              "3      SS32HD  201704.0        60.0   82.347171  0.627547\n",
              "4      SS32HD  201705.0       280.0  286.751202  0.975889"
            ]
          },
          "metadata": {
            "tags": []
          },
          "execution_count": 190
        }
      ]
    },
    {
      "cell_type": "code",
      "metadata": {
        "id": "sG3ZUddhWZ35",
        "colab_type": "code",
        "colab": {
          "base_uri": "https://localhost:8080/",
          "height": 204
        },
        "outputId": "63da3c99-55d9-42db-d87d-b669905819a5"
      },
      "source": [
        "for index, row in series.iterrows():\n",
        "    if row['period'] == 201905:\n",
        "        series.drop(index, inplace=True)\n",
        "\n",
        "series.head()"
      ],
      "execution_count": 191,
      "outputs": [
        {
          "output_type": "execute_result",
          "data": {
            "text/html": [
              "<div>\n",
              "<style scoped>\n",
              "    .dataframe tbody tr th:only-of-type {\n",
              "        vertical-align: middle;\n",
              "    }\n",
              "\n",
              "    .dataframe tbody tr th {\n",
              "        vertical-align: top;\n",
              "    }\n",
              "\n",
              "    .dataframe thead th {\n",
              "        text-align: right;\n",
              "    }\n",
              "</style>\n",
              "<table border=\"1\" class=\"dataframe\">\n",
              "  <thead>\n",
              "    <tr style=\"text-align: right;\">\n",
              "      <th></th>\n",
              "      <th>site_use_id</th>\n",
              "      <th>period</th>\n",
              "      <th>total_unit</th>\n",
              "      <th>yhat</th>\n",
              "      <th>acc</th>\n",
              "    </tr>\n",
              "  </thead>\n",
              "  <tbody>\n",
              "    <tr>\n",
              "      <th>0</th>\n",
              "      <td>SS32HD</td>\n",
              "      <td>201701.0</td>\n",
              "      <td>0.0</td>\n",
              "      <td>69.329328</td>\n",
              "      <td>0.000000</td>\n",
              "    </tr>\n",
              "    <tr>\n",
              "      <th>1</th>\n",
              "      <td>SS32HD</td>\n",
              "      <td>201702.0</td>\n",
              "      <td>0.0</td>\n",
              "      <td>-3.577937</td>\n",
              "      <td>0.000000</td>\n",
              "    </tr>\n",
              "    <tr>\n",
              "      <th>2</th>\n",
              "      <td>SS32HD</td>\n",
              "      <td>201703.0</td>\n",
              "      <td>0.0</td>\n",
              "      <td>35.797229</td>\n",
              "      <td>0.000000</td>\n",
              "    </tr>\n",
              "    <tr>\n",
              "      <th>3</th>\n",
              "      <td>SS32HD</td>\n",
              "      <td>201704.0</td>\n",
              "      <td>60.0</td>\n",
              "      <td>82.347171</td>\n",
              "      <td>0.627547</td>\n",
              "    </tr>\n",
              "    <tr>\n",
              "      <th>4</th>\n",
              "      <td>SS32HD</td>\n",
              "      <td>201705.0</td>\n",
              "      <td>280.0</td>\n",
              "      <td>286.751202</td>\n",
              "      <td>0.975889</td>\n",
              "    </tr>\n",
              "  </tbody>\n",
              "</table>\n",
              "</div>"
            ],
            "text/plain": [
              "  site_use_id    period  total_unit        yhat       acc\n",
              "0      SS32HD  201701.0         0.0   69.329328  0.000000\n",
              "1      SS32HD  201702.0         0.0   -3.577937  0.000000\n",
              "2      SS32HD  201703.0         0.0   35.797229  0.000000\n",
              "3      SS32HD  201704.0        60.0   82.347171  0.627547\n",
              "4      SS32HD  201705.0       280.0  286.751202  0.975889"
            ]
          },
          "metadata": {
            "tags": []
          },
          "execution_count": 191
        }
      ]
    },
    {
      "cell_type": "code",
      "metadata": {
        "id": "wmvKoUiOSnJt",
        "colab_type": "code",
        "colab": {
          "base_uri": "https://localhost:8080/",
          "height": 204
        },
        "outputId": "7bba8297-2961-47ac-fb28-83bbdf71f3cd"
      },
      "source": [
        "series['period'] = pd.to_datetime(series['period'], format='%Y%m')\n",
        "series.head()"
      ],
      "execution_count": 192,
      "outputs": [
        {
          "output_type": "execute_result",
          "data": {
            "text/html": [
              "<div>\n",
              "<style scoped>\n",
              "    .dataframe tbody tr th:only-of-type {\n",
              "        vertical-align: middle;\n",
              "    }\n",
              "\n",
              "    .dataframe tbody tr th {\n",
              "        vertical-align: top;\n",
              "    }\n",
              "\n",
              "    .dataframe thead th {\n",
              "        text-align: right;\n",
              "    }\n",
              "</style>\n",
              "<table border=\"1\" class=\"dataframe\">\n",
              "  <thead>\n",
              "    <tr style=\"text-align: right;\">\n",
              "      <th></th>\n",
              "      <th>site_use_id</th>\n",
              "      <th>period</th>\n",
              "      <th>total_unit</th>\n",
              "      <th>yhat</th>\n",
              "      <th>acc</th>\n",
              "    </tr>\n",
              "  </thead>\n",
              "  <tbody>\n",
              "    <tr>\n",
              "      <th>0</th>\n",
              "      <td>SS32HD</td>\n",
              "      <td>2017-01-01</td>\n",
              "      <td>0.0</td>\n",
              "      <td>69.329328</td>\n",
              "      <td>0.000000</td>\n",
              "    </tr>\n",
              "    <tr>\n",
              "      <th>1</th>\n",
              "      <td>SS32HD</td>\n",
              "      <td>2017-02-01</td>\n",
              "      <td>0.0</td>\n",
              "      <td>-3.577937</td>\n",
              "      <td>0.000000</td>\n",
              "    </tr>\n",
              "    <tr>\n",
              "      <th>2</th>\n",
              "      <td>SS32HD</td>\n",
              "      <td>2017-03-01</td>\n",
              "      <td>0.0</td>\n",
              "      <td>35.797229</td>\n",
              "      <td>0.000000</td>\n",
              "    </tr>\n",
              "    <tr>\n",
              "      <th>3</th>\n",
              "      <td>SS32HD</td>\n",
              "      <td>2017-04-01</td>\n",
              "      <td>60.0</td>\n",
              "      <td>82.347171</td>\n",
              "      <td>0.627547</td>\n",
              "    </tr>\n",
              "    <tr>\n",
              "      <th>4</th>\n",
              "      <td>SS32HD</td>\n",
              "      <td>2017-05-01</td>\n",
              "      <td>280.0</td>\n",
              "      <td>286.751202</td>\n",
              "      <td>0.975889</td>\n",
              "    </tr>\n",
              "  </tbody>\n",
              "</table>\n",
              "</div>"
            ],
            "text/plain": [
              "  site_use_id     period  total_unit        yhat       acc\n",
              "0      SS32HD 2017-01-01         0.0   69.329328  0.000000\n",
              "1      SS32HD 2017-02-01         0.0   -3.577937  0.000000\n",
              "2      SS32HD 2017-03-01         0.0   35.797229  0.000000\n",
              "3      SS32HD 2017-04-01        60.0   82.347171  0.627547\n",
              "4      SS32HD 2017-05-01       280.0  286.751202  0.975889"
            ]
          },
          "metadata": {
            "tags": []
          },
          "execution_count": 192
        }
      ]
    },
    {
      "cell_type": "code",
      "metadata": {
        "id": "CODQF212WSS9",
        "colab_type": "code",
        "colab": {}
      },
      "source": [
        "accs = []\n",
        "outlet = []\n",
        "\n",
        "for out in series['site_use_id'].unique() :\n",
        "  data = series[series.site_use_id == out]\n",
        "  accu = data.acc.mean()\n",
        "  outlet.append(out)\n",
        "  accs.append(accu)"
      ],
      "execution_count": 0,
      "outputs": []
    },
    {
      "cell_type": "code",
      "metadata": {
        "id": "go2Owew_8g3W",
        "colab_type": "code",
        "colab": {
          "base_uri": "https://localhost:8080/",
          "height": 419
        },
        "outputId": "7ea77eda-2e0d-403a-dc3f-0988393e76ad"
      },
      "source": [
        "mean = {'mean_accuracy' : accs, 'site_use_id': outlet}\n",
        "mean_a = pd.DataFrame(mean)\n",
        "mean_a"
      ],
      "execution_count": 194,
      "outputs": [
        {
          "output_type": "execute_result",
          "data": {
            "text/html": [
              "<div>\n",
              "<style scoped>\n",
              "    .dataframe tbody tr th:only-of-type {\n",
              "        vertical-align: middle;\n",
              "    }\n",
              "\n",
              "    .dataframe tbody tr th {\n",
              "        vertical-align: top;\n",
              "    }\n",
              "\n",
              "    .dataframe thead th {\n",
              "        text-align: right;\n",
              "    }\n",
              "</style>\n",
              "<table border=\"1\" class=\"dataframe\">\n",
              "  <thead>\n",
              "    <tr style=\"text-align: right;\">\n",
              "      <th></th>\n",
              "      <th>mean_accuracy</th>\n",
              "      <th>site_use_id</th>\n",
              "    </tr>\n",
              "  </thead>\n",
              "  <tbody>\n",
              "    <tr>\n",
              "      <th>0</th>\n",
              "      <td>0.021827</td>\n",
              "      <td>SS32HD</td>\n",
              "    </tr>\n",
              "    <tr>\n",
              "      <th>1</th>\n",
              "      <td>0.132653</td>\n",
              "      <td>XP83RK</td>\n",
              "    </tr>\n",
              "    <tr>\n",
              "      <th>2</th>\n",
              "      <td>-4.485209</td>\n",
              "      <td>MQ84EY</td>\n",
              "    </tr>\n",
              "    <tr>\n",
              "      <th>3</th>\n",
              "      <td>0.710097</td>\n",
              "      <td>ZX72DB</td>\n",
              "    </tr>\n",
              "    <tr>\n",
              "      <th>4</th>\n",
              "      <td>-1.449849</td>\n",
              "      <td>WH14HA</td>\n",
              "    </tr>\n",
              "    <tr>\n",
              "      <th>...</th>\n",
              "      <td>...</td>\n",
              "      <td>...</td>\n",
              "    </tr>\n",
              "    <tr>\n",
              "      <th>1996</th>\n",
              "      <td>0.653908</td>\n",
              "      <td>CS72VA</td>\n",
              "    </tr>\n",
              "    <tr>\n",
              "      <th>1997</th>\n",
              "      <td>0.725211</td>\n",
              "      <td>IM68GK</td>\n",
              "    </tr>\n",
              "    <tr>\n",
              "      <th>1998</th>\n",
              "      <td>0.798790</td>\n",
              "      <td>MR14LO</td>\n",
              "    </tr>\n",
              "    <tr>\n",
              "      <th>1999</th>\n",
              "      <td>0.550774</td>\n",
              "      <td>BI65SI</td>\n",
              "    </tr>\n",
              "    <tr>\n",
              "      <th>2000</th>\n",
              "      <td>0.527910</td>\n",
              "      <td>ZQ15NW</td>\n",
              "    </tr>\n",
              "  </tbody>\n",
              "</table>\n",
              "<p>2001 rows × 2 columns</p>\n",
              "</div>"
            ],
            "text/plain": [
              "      mean_accuracy site_use_id\n",
              "0          0.021827      SS32HD\n",
              "1          0.132653      XP83RK\n",
              "2         -4.485209      MQ84EY\n",
              "3          0.710097      ZX72DB\n",
              "4         -1.449849      WH14HA\n",
              "...             ...         ...\n",
              "1996       0.653908      CS72VA\n",
              "1997       0.725211      IM68GK\n",
              "1998       0.798790      MR14LO\n",
              "1999       0.550774      BI65SI\n",
              "2000       0.527910      ZQ15NW\n",
              "\n",
              "[2001 rows x 2 columns]"
            ]
          },
          "metadata": {
            "tags": []
          },
          "execution_count": 194
        }
      ]
    },
    {
      "cell_type": "code",
      "metadata": {
        "id": "RdYCxh2tV-z2",
        "colab_type": "code",
        "colab": {
          "base_uri": "https://localhost:8080/",
          "height": 51
        },
        "outputId": "15d93105-1bdc-411e-9766-b671e3fe5a9b"
      },
      "source": [
        "mean_a.max()"
      ],
      "execution_count": 195,
      "outputs": [
        {
          "output_type": "execute_result",
          "data": {
            "text/plain": [
              "mean_accuracy    0.977733\n",
              "dtype: float64"
            ]
          },
          "metadata": {
            "tags": []
          },
          "execution_count": 195
        }
      ]
    },
    {
      "cell_type": "code",
      "metadata": {
        "id": "WB5Mbh1lWGBl",
        "colab_type": "code",
        "colab": {
          "base_uri": "https://localhost:8080/",
          "height": 51
        },
        "outputId": "c3c56e86-a196-4b15-d9cb-ec8c78686198"
      },
      "source": [
        "mean_a.min()"
      ],
      "execution_count": 196,
      "outputs": [
        {
          "output_type": "execute_result",
          "data": {
            "text/plain": [
              "mean_accuracy   -47.491128\n",
              "dtype: float64"
            ]
          },
          "metadata": {
            "tags": []
          },
          "execution_count": 196
        }
      ]
    },
    {
      "cell_type": "markdown",
      "metadata": {
        "id": "_9zfxeq5bdKu",
        "colab_type": "text"
      },
      "source": [
        "#### AKURASI TERBAIK (PROPHET PREPROCESSING)"
      ]
    },
    {
      "cell_type": "code",
      "metadata": {
        "id": "_h3LMK-8ZTak",
        "colab_type": "code",
        "colab": {
          "base_uri": "https://localhost:8080/",
          "height": 204
        },
        "outputId": "2c6bd1d7-3fe7-4445-94ba-3c0e363dda11"
      },
      "source": [
        "series = pd.read_csv('../content/drive/My Drive/datasets/prophet_preprocessing.csv', sep=';')\n",
        "series.head()"
      ],
      "execution_count": 181,
      "outputs": [
        {
          "output_type": "execute_result",
          "data": {
            "text/html": [
              "<div>\n",
              "<style scoped>\n",
              "    .dataframe tbody tr th:only-of-type {\n",
              "        vertical-align: middle;\n",
              "    }\n",
              "\n",
              "    .dataframe tbody tr th {\n",
              "        vertical-align: top;\n",
              "    }\n",
              "\n",
              "    .dataframe thead th {\n",
              "        text-align: right;\n",
              "    }\n",
              "</style>\n",
              "<table border=\"1\" class=\"dataframe\">\n",
              "  <thead>\n",
              "    <tr style=\"text-align: right;\">\n",
              "      <th></th>\n",
              "      <th>site_use_id</th>\n",
              "      <th>period</th>\n",
              "      <th>y_scaler</th>\n",
              "      <th>yhat_scaler</th>\n",
              "      <th>acc</th>\n",
              "    </tr>\n",
              "  </thead>\n",
              "  <tbody>\n",
              "    <tr>\n",
              "      <th>0</th>\n",
              "      <td>SS32HD</td>\n",
              "      <td>2017-01-01 00:00:00</td>\n",
              "      <td>0.000000</td>\n",
              "      <td>0.000705</td>\n",
              "      <td>0.000000</td>\n",
              "    </tr>\n",
              "    <tr>\n",
              "      <th>1</th>\n",
              "      <td>SS32HD</td>\n",
              "      <td>2017-02-01 00:00:00</td>\n",
              "      <td>0.000000</td>\n",
              "      <td>-0.000076</td>\n",
              "      <td>0.000000</td>\n",
              "    </tr>\n",
              "    <tr>\n",
              "      <th>2</th>\n",
              "      <td>SS32HD</td>\n",
              "      <td>2017-03-01 00:00:00</td>\n",
              "      <td>0.000000</td>\n",
              "      <td>0.000293</td>\n",
              "      <td>0.000000</td>\n",
              "    </tr>\n",
              "    <tr>\n",
              "      <th>3</th>\n",
              "      <td>SS32HD</td>\n",
              "      <td>2017-04-01 00:00:00</td>\n",
              "      <td>0.000609</td>\n",
              "      <td>0.001155</td>\n",
              "      <td>0.103720</td>\n",
              "    </tr>\n",
              "    <tr>\n",
              "      <th>4</th>\n",
              "      <td>SS32HD</td>\n",
              "      <td>2017-05-01 00:00:00</td>\n",
              "      <td>0.002842</td>\n",
              "      <td>0.002811</td>\n",
              "      <td>0.989037</td>\n",
              "    </tr>\n",
              "  </tbody>\n",
              "</table>\n",
              "</div>"
            ],
            "text/plain": [
              "  site_use_id               period  y_scaler  yhat_scaler       acc\n",
              "0      SS32HD  2017-01-01 00:00:00  0.000000     0.000705  0.000000\n",
              "1      SS32HD  2017-02-01 00:00:00  0.000000    -0.000076  0.000000\n",
              "2      SS32HD  2017-03-01 00:00:00  0.000000     0.000293  0.000000\n",
              "3      SS32HD  2017-04-01 00:00:00  0.000609     0.001155  0.103720\n",
              "4      SS32HD  2017-05-01 00:00:00  0.002842     0.002811  0.989037"
            ]
          },
          "metadata": {
            "tags": []
          },
          "execution_count": 181
        }
      ]
    },
    {
      "cell_type": "code",
      "metadata": {
        "id": "VKxHhqE8Zf2o",
        "colab_type": "code",
        "colab": {}
      },
      "source": [
        "accs = []\n",
        "outlet = []\n",
        "\n",
        "for out in series['site_use_id'].unique() :\n",
        "  data = series[series.site_use_id == out]\n",
        "  accu = data.acc.mean()\n",
        "  outlet.append(out)\n",
        "  accs.append(accu)"
      ],
      "execution_count": 0,
      "outputs": []
    },
    {
      "cell_type": "code",
      "metadata": {
        "id": "bdIGMkgIZszG",
        "colab_type": "code",
        "colab": {
          "base_uri": "https://localhost:8080/",
          "height": 419
        },
        "outputId": "79d4be53-6d93-471b-e099-dfa0b9368faa"
      },
      "source": [
        "mean = {'mean_accuracy' : accs, 'site_use_id': outlet}\n",
        "mean_a = pd.DataFrame(mean)\n",
        "mean_a"
      ],
      "execution_count": 183,
      "outputs": [
        {
          "output_type": "execute_result",
          "data": {
            "text/html": [
              "<div>\n",
              "<style scoped>\n",
              "    .dataframe tbody tr th:only-of-type {\n",
              "        vertical-align: middle;\n",
              "    }\n",
              "\n",
              "    .dataframe tbody tr th {\n",
              "        vertical-align: top;\n",
              "    }\n",
              "\n",
              "    .dataframe thead th {\n",
              "        text-align: right;\n",
              "    }\n",
              "</style>\n",
              "<table border=\"1\" class=\"dataframe\">\n",
              "  <thead>\n",
              "    <tr style=\"text-align: right;\">\n",
              "      <th></th>\n",
              "      <th>mean_accuracy</th>\n",
              "      <th>site_use_id</th>\n",
              "    </tr>\n",
              "  </thead>\n",
              "  <tbody>\n",
              "    <tr>\n",
              "      <th>0</th>\n",
              "      <td>0.275010</td>\n",
              "      <td>SS32HD</td>\n",
              "    </tr>\n",
              "    <tr>\n",
              "      <th>1</th>\n",
              "      <td>0.171226</td>\n",
              "      <td>XP83RK</td>\n",
              "    </tr>\n",
              "    <tr>\n",
              "      <th>2</th>\n",
              "      <td>-3.746288</td>\n",
              "      <td>MQ84EY</td>\n",
              "    </tr>\n",
              "    <tr>\n",
              "      <th>3</th>\n",
              "      <td>0.684412</td>\n",
              "      <td>ZX72DB</td>\n",
              "    </tr>\n",
              "    <tr>\n",
              "      <th>4</th>\n",
              "      <td>-1.913857</td>\n",
              "      <td>WH14HA</td>\n",
              "    </tr>\n",
              "    <tr>\n",
              "      <th>...</th>\n",
              "      <td>...</td>\n",
              "      <td>...</td>\n",
              "    </tr>\n",
              "    <tr>\n",
              "      <th>1996</th>\n",
              "      <td>0.646530</td>\n",
              "      <td>CS72VA</td>\n",
              "    </tr>\n",
              "    <tr>\n",
              "      <th>1997</th>\n",
              "      <td>0.708784</td>\n",
              "      <td>IM68GK</td>\n",
              "    </tr>\n",
              "    <tr>\n",
              "      <th>1998</th>\n",
              "      <td>0.777113</td>\n",
              "      <td>MR14LO</td>\n",
              "    </tr>\n",
              "    <tr>\n",
              "      <th>1999</th>\n",
              "      <td>0.473010</td>\n",
              "      <td>BI65SI</td>\n",
              "    </tr>\n",
              "    <tr>\n",
              "      <th>2000</th>\n",
              "      <td>0.562507</td>\n",
              "      <td>ZQ15NW</td>\n",
              "    </tr>\n",
              "  </tbody>\n",
              "</table>\n",
              "<p>2001 rows × 2 columns</p>\n",
              "</div>"
            ],
            "text/plain": [
              "      mean_accuracy site_use_id\n",
              "0          0.275010      SS32HD\n",
              "1          0.171226      XP83RK\n",
              "2         -3.746288      MQ84EY\n",
              "3          0.684412      ZX72DB\n",
              "4         -1.913857      WH14HA\n",
              "...             ...         ...\n",
              "1996       0.646530      CS72VA\n",
              "1997       0.708784      IM68GK\n",
              "1998       0.777113      MR14LO\n",
              "1999       0.473010      BI65SI\n",
              "2000       0.562507      ZQ15NW\n",
              "\n",
              "[2001 rows x 2 columns]"
            ]
          },
          "metadata": {
            "tags": []
          },
          "execution_count": 183
        }
      ]
    },
    {
      "cell_type": "code",
      "metadata": {
        "id": "AA1y7bZNaz9x",
        "colab_type": "code",
        "colab": {
          "base_uri": "https://localhost:8080/",
          "height": 51
        },
        "outputId": "d286bc0c-9f81-402e-f627-9955d670782c"
      },
      "source": [
        "mean_a.max()"
      ],
      "execution_count": 184,
      "outputs": [
        {
          "output_type": "execute_result",
          "data": {
            "text/plain": [
              "mean_accuracy    0.949906\n",
              "dtype: float64"
            ]
          },
          "metadata": {
            "tags": []
          },
          "execution_count": 184
        }
      ]
    },
    {
      "cell_type": "code",
      "metadata": {
        "id": "lZoBwVOLa3kA",
        "colab_type": "code",
        "colab": {
          "base_uri": "https://localhost:8080/",
          "height": 51
        },
        "outputId": "e42422f5-fedf-4aae-e620-ee4a69887e1e"
      },
      "source": [
        "mean_a.min()"
      ],
      "execution_count": 185,
      "outputs": [
        {
          "output_type": "execute_result",
          "data": {
            "text/plain": [
              "mean_accuracy   -52.306827\n",
              "dtype: float64"
            ]
          },
          "metadata": {
            "tags": []
          },
          "execution_count": 185
        }
      ]
    },
    {
      "cell_type": "code",
      "metadata": {
        "id": "uXRz7LKGa_2b",
        "colab_type": "code",
        "colab": {}
      },
      "source": [
        ""
      ],
      "execution_count": 0,
      "outputs": []
    }
  ]
}